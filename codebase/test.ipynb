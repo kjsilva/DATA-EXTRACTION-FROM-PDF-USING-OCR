{
 "cells": [
  {
   "cell_type": "markdown",
   "id": "c06c27a2",
   "metadata": {},
   "source": [
    "### IMPORTING LIBRARIES"
   ]
  },
  {
   "cell_type": "code",
   "execution_count": 1,
   "id": "2471874a",
   "metadata": {},
   "outputs": [],
   "source": [
    "import pandas as pd\n",
    "import pytesseract as pyt\n",
    "from pdf2image import convert_from_path\n",
    "import cv2 as cv\n",
    "from pathlib import Path\n",
    "from PIL import Image\n",
    "import re"
   ]
  },
  {
   "cell_type": "markdown",
   "id": "988537ac",
   "metadata": {},
   "source": [
    "### PATHS"
   ]
  },
  {
   "cell_type": "code",
   "execution_count": 2,
   "id": "eda1c788",
   "metadata": {},
   "outputs": [],
   "source": [
    "#current directory\n",
    "BASE_DIR = Path.cwd()\n",
    "\n",
    "#go one level up \n",
    "PROJECT_DIR = BASE_DIR.parent \n",
    "\n",
    "#input dir\n",
    "INPUT_DIR = PROJECT_DIR / 'data' / 'input'\n",
    "\n",
    "#output dir\n",
    "OUTPUT_DIR = PROJECT_DIR / 'data' / 'output'\n",
    "\n",
    "#loading the tesseract.exe\n",
    "pyt.pytesseract.tesseract_cmd = (\n",
    "    r\"C:\\Program Files\\Tesseract-OCR\\tesseract.exe\"\n",
    ")"
   ]
  },
  {
   "cell_type": "markdown",
   "id": "c50564fa",
   "metadata": {},
   "source": [
    "### MAIN PROGRAM"
   ]
  },
  {
   "cell_type": "code",
   "execution_count": 3,
   "id": "992b6fce",
   "metadata": {},
   "outputs": [],
   "source": [
    "#importing pdf file\n",
    "pdf_file = INPUT_DIR / 'input.pdf'\n",
    "\n",
    "#store all the pages of the pdf in a variable\n",
    "image_file_list = []"
   ]
  },
  {
   "cell_type": "code",
   "execution_count": 4,
   "id": "a7886433",
   "metadata": {},
   "outputs": [],
   "source": [
    "# Read in the PDF file at 500 DPI\n",
    "pdf_pages = convert_from_path(pdf_file, 500)"
   ]
  },
  {
   "cell_type": "code",
   "execution_count": 5,
   "id": "d8e2acf3",
   "metadata": {},
   "outputs": [],
   "source": [
    "# Iterate through all the pages stored in pdf_pages\n",
    "for page_enum, page in enumerate(pdf_pages, start=1):\n",
    "    image_file_list.append(page)"
   ]
  },
  {
   "cell_type": "code",
   "execution_count": 6,
   "id": "ccadd352",
   "metadata": {},
   "outputs": [],
   "source": [
    "#loop the saved images in image_file_list\n",
    "for image_file in image_file_list:\n",
    "    text = str(pyt.image_to_string(image_file))"
   ]
  },
  {
   "cell_type": "code",
   "execution_count": 7,
   "id": "2c09283a",
   "metadata": {},
   "outputs": [
    {
     "data": {
      "text/plain": [
       "'Republic of the Philippines\\nILOILO SCIENCE AND TECHNOLOGY UNIVERSITY\\nBurgos St., La Paz, Iloilo City\\n* E-mail address: registrar@isatu.edu.ph + Telephone No.: (033) 320-71-90 local 110\\n\\nOFFICIAL TRANSCRIPT OF RECORDS\\n\\nID No.: 2019-7667-A\\n\\nName: SILVA, KARL JADE CORTEZ | Date: JANUARY 12, 2024\\nDate of Birth: AUGUST 31, 2000 wT Gender: MALE\\n\\nPlace of Birth: SARA, ILOILO\\nAddress: SAN LUIS, SARA, ILOILO |\\n\\nOTHER PRELIMINARY RECORDS\\nParent/Guardian: EUSEBIO SILVA JR. Address: SAN LUIS, SARA, ILOILO\\nEntrance Cred.: SF10-SHS FROM SAN LUIS NATIONAL HIGH SCHOOL School Year: 2018-2019\\nDate of Admission: MAY 20, 2019 Date of Graduation: JULY 5, 2023\\nDegree/Curriculum: BACHELOR OF SCIENCE IN COMPUTER SCIENCE )\\nMajor: NONE \" Minor: NONE\\nAACCUP Accreditation Level: LEVEL Ill RE-ACCREDITED\\n\\n'"
      ]
     },
     "execution_count": 7,
     "metadata": {},
     "output_type": "execute_result"
    }
   ],
   "source": [
    "text"
   ]
  },
  {
   "cell_type": "code",
   "execution_count": 44,
   "id": "478afeb4",
   "metadata": {},
   "outputs": [
    {
     "data": {
      "text/plain": [
       "['Republic of the Philippines',\n",
       " 'ILOILO SCIENCE AND TECHNOLOGY UNIVERSITY',\n",
       " 'Burgos St., La Paz, Iloilo City',\n",
       " '* E-mail address: registrar@isatu.edu.ph + Telephone No.: (033) 320-71-90 local 110',\n",
       " 'OFFICIAL TRANSCRIPT OF RECORDS',\n",
       " 'ID No.: 2019-7667-A',\n",
       " 'Name: SILVA, KARL JADE CORTEZ',\n",
       " 'Date: JANUARY 12, 2024',\n",
       " 'Date of Birth: AUGUST 31, 2000 wT Gender: MALE',\n",
       " 'Place of Birth: SARA, ILOILO',\n",
       " 'Address: SAN LUIS, SARA, ILOILO',\n",
       " 'OTHER PRELIMINARY RECORDS',\n",
       " 'Parent/Guardian: EUSEBIO SILVA JR. Address: SAN LUIS, SARA, ILOILO',\n",
       " 'Entrance Cred.: SF10-SHS FROM SAN LUIS NATIONAL HIGH SCHOOL School Year: 2018-2019',\n",
       " 'Date of Admission: MAY 20, 2019 Date of Graduation: JULY 5, 2023',\n",
       " 'Degree/Curriculum: BACHELOR OF SCIENCE IN COMPUTER SCIENCE )',\n",
       " 'Major: NONE \" Minor: NONE',\n",
       " 'AACCUP Accreditation Level: LEVEL Ill RE-ACCREDITED']"
      ]
     },
     "execution_count": 44,
     "metadata": {},
     "output_type": "execute_result"
    }
   ],
   "source": [
    "#splitting the strings on \\n and |\n",
    "text_list = re.split(r'\\n|\\|', text)\n",
    "\n",
    "#remove empty value\n",
    "text_list = [x.strip() for x in text_list if x != '']\n",
    "text_list"
   ]
  },
  {
   "cell_type": "code",
   "execution_count": null,
   "id": "36d2d000",
   "metadata": {},
   "outputs": [],
   "source": [
    "#extract school\n",
    "school = text_list[1]\n",
    "\n",
    "#extract name \n",
    "for txt in text_list:\n",
    "    #name\n",
    "    name_match = re.search(r'Name:\\s*(.*)', txt)\n",
    "    if name_match:\n",
    "        name = name_match.group(1)\n",
    "        name = name.replace(',', '')\n",
    "\n",
    "    #date of birth\n",
    "    #string = 'Date of Birth: AUGUST 31, 2000 wT Gender: MALE'\n",
    "    dob_match = re.search(r\"(Date of Birth: (.*?))(?: wT|$)\", txt)\n",
    "    if dob_match:\n",
    "        dob = dob_match.group(2).strip()\n",
    "\n",
    "    #place of birth\n",
    "    pob_match = re.search(r\"Place of Birth:\\s(.*)\", txt)\n",
    "    if pob_match:\n",
    "        pob = pob_match.group(1)\n",
    "\n",
    "    #address\n",
    "    address_match = re.match(r\"^Address:\\s(.*)\", txt)\n",
    "    if address_match:\n",
    "        address = address_match.group(1)\n",
    "\n",
    "    #date of claim\n",
    "    date_claimed_match = re.match(r\"^Date:\\s(.*)\", txt)\n",
    "    if date_claimed_match:\n",
    "        date_claimed = date_claimed_match.group(1)\n",
    "        \n",
    "    #gender\n",
    "    a = re.search(r\"Date of Birth: .*\", txt)\n",
    "    if a:\n",
    "        a = a.group(0)\n",
    "        gender_match = re.search(r\"Gender: (.*)\", a)\n",
    "        gender = gender_match.group(1)\n",
    "\n",
    "    #parent\n",
    "    parent_match = re.search(r\"Parent/Guardian: (.*?)(?: Address|$)\", txt)\n",
    "    if parent_match:\n",
    "        parent = parent_match.group(1)\n",
    "    \n",
    "    #entrance credentials\n",
    "    entrance_cred_match = re.search(r\"Entrance Cred.: (.*?)(?: School|$)\", txt)\n",
    "    if entrance_cred_match:\n",
    "        entrance_cred = entrance_cred_match.group(1)\n",
    "    \n",
    "    #date of admission\n",
    "    dateof_add_match = re.search(r\"Date of Admission: (.*?)(?: Date |$)\", txt)\n",
    "    if dateof_add_match:\n",
    "        dateof_addmission = dateof_add_match.group(1)\n",
    "\n",
    "    #degree\n",
    "    degree_match = re.search(r\"Degree/Curriculum: (.*)\", txt)\n",
    "    if degree_match:\n",
    "        degree = degree_match.group(1).replace(')','').strip()\n",
    "\n",
    "    #major\n",
    "    major_match = re.search(r\"Major: (.*?)(?: |$)\", txt)\n",
    "    if major_match:\n",
    "        major = major_match.group(1)\n",
    "    \n",
    "    #minor\n",
    "    minor_match = re.search(r\"Minor: (.*)\", txt)\n",
    "    if minor_match:\n",
    "        minor = minor_match.group(1)"
   ]
  },
  {
   "cell_type": "code",
   "execution_count": null,
   "id": "2c008639",
   "metadata": {},
   "outputs": [],
   "source": [
    "#making dataframe\n",
    "df = pd.DataFrame({'SCHOOL' : [school],\n",
    "                   'NAME' : [name],\n",
    "                   'DATE OF BIRTH' : [dob],\n",
    "                   'PLACE OF BIRTH' : [pob],\n",
    "                   'ADDRESS' : [address],\n",
    "                   'DATE CLAIMED' : [date_claimed],\n",
    "                   'GENDER' : [gender],\n",
    "                   'PARENT' : [parent],\n",
    "                   'ENTRANCE CREDENTIALS' : [entrance_cred],\n",
    "                   'DATE OF ADMISSION' : [dateof_addmission],\n",
    "                   'DEGREE' : [degree],\n",
    "                   'MAJOR' : [major],\n",
    "                   'MINOR' : [minor]})\n",
    "df = df.replace(r\"[,-.]\", \"\", regex=True)"
   ]
  }
 ],
 "metadata": {
  "kernelspec": {
   "display_name": "venv (3.10.8)",
   "language": "python",
   "name": "python3"
  },
  "language_info": {
   "codemirror_mode": {
    "name": "ipython",
    "version": 3
   },
   "file_extension": ".py",
   "mimetype": "text/x-python",
   "name": "python",
   "nbconvert_exporter": "python",
   "pygments_lexer": "ipython3",
   "version": "3.10.8"
  }
 },
 "nbformat": 4,
 "nbformat_minor": 5
}
